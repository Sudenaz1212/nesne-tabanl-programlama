{
  "nbformat": 4,
  "nbformat_minor": 0,
  "metadata": {
    "colab": {
      "provenance": [],
      "authorship_tag": "ABX9TyNYuICKPtvDgwRh2BQYz3JK",
      "include_colab_link": true
    },
    "kernelspec": {
      "name": "python3",
      "display_name": "Python 3"
    },
    "language_info": {
      "name": "python"
    }
  },
  "cells": [
    {
      "cell_type": "markdown",
      "metadata": {
        "id": "view-in-github",
        "colab_type": "text"
      },
      "source": [
        "<a href=\"https://colab.research.google.com/github/Sudenaz1212/nesne-tabanl-programlama/blob/main/Stok_Takip_Sistemi.ipynb\" target=\"_parent\"><img src=\"https://colab.research.google.com/assets/colab-badge.svg\" alt=\"Open In Colab\"/></a>"
      ]
    },
    {
      "cell_type": "code",
      "execution_count": null,
      "metadata": {
        "id": "i9YMExNWpANd"
      },
      "outputs": [],
      "source": [
        "class Urun:\n",
        "  def __init__(self, urun_id, ad, stok):\n",
        "    self.urun_id = urun_id\n",
        "    self.ad = ad\n",
        "    self.stok = stok\n",
        "\n",
        "  def stok_guncelle(self, miktar):\n",
        "    self.stok +=miktar\n",
        "\n",
        "  def sipariş_oluştur(self, miktar):\n",
        "    if self.stok >=miktar:\n",
        "      self.stok -=miktar\n",
        "      return True\n",
        "    else:\n",
        "        print(\"Stok yeterli değil.\")\n",
        "        return False\n",
        "\n",
        "class Siparis:\n",
        "  def __init__(self, siparis_no, urun, miktar):\n",
        "    self.siparis_no = siparis_no\n",
        "    self.urun = urun\n",
        "    self.miktar = miktar\n",
        "\n",
        "  def siparis_tamamla(self):\n",
        "    return f\"Siparis #{self.siparis_no}: {self.urun.ad} x {self.miktar}\"\n",
        "\n",
        "urunler = {} # urun_id: urun nesnesi\n",
        "siparisler = [] # sipariş nesnelerini listede tutar\n",
        "siparis_sayacı = 1 # sipariş numarasını tutar\n",
        "\n",
        "def menu():\n",
        "  print(\"\\n Stok Takip Sistemi\")\n",
        "  print(\"1.Ürün Ekle\")\n",
        "  print(\"2.Stok Güncelle\")\n",
        "  print(\"3.Ürünleri Görüntüle\")\n",
        "  print(\"4.Sipariş Oluşturma\")\n",
        "  print(\"5.Siparişleri Görüntüle\")\n",
        "  print(\"6.Çıkış\")\n",
        "\n",
        "while True:\n",
        "  menu()\n",
        "  secim = input(\"Seçiminiz: \")\n",
        "  if secim == \"1\":\n",
        "    urun_id = input(\"Ürün ıd:\")\n",
        "    ad = input(\"Ürün Adı: \")\n",
        "    stok = int(input(\"Stok Miktarı: \"))\n",
        "    urunler[urun_id] = Urun(urun_id, ad, stok)\n",
        "    print(\"Ürün başarıyla eklendi.\")\n",
        "\n",
        "  elif secim == \"2\":\n",
        "    urun_id =input(\"Ürün ıd: \")\n",
        "    miktar = int(input(\"Eklemek istediğiniz stok Miktarı: \"))\n",
        "    if urun_id in urunler:\n",
        "      urunler[urun_id].stok_guncelle(miktar)\n",
        "      print(\"Stok başarıyla güncellendi.\")\n",
        "    else:\n",
        "      print(\"Ürün bulunamadı.\")\n",
        "\n",
        "  elif secim == \"3\":\n",
        "    for u in urunler.values():\n",
        "      print(f\"{u.urun_id} - {u.ad} : {u.stok} adet\")\n",
        "\n",
        "  elif secim == \"4\":\n",
        "    urun_id = input(\"Ürün ıd: \")\n",
        "    miktar = int(input(\"Sipariş mıktarı: \"))\n",
        "\n",
        "    if urun_id in urunler:\n",
        "      basarili = urunler[urun_id].siparis_olustur(miktar)\n",
        "      if basarili:\n",
        "        siparis = Siparis(siparis_sayacı, urunler[urun_id], miktar) #Siparis class'ından nesne oluşturuldu\n",
        "        siparisler.append(siparis)\n",
        "        print(f\"Sipariş başarıyla oluşturuldu: sipariş no: {siparis_sayaci}\")\n",
        "        siparis_sayaci +=1\n",
        "\n",
        "    else:\n",
        "      print(\"Ürün bulunamadı.\")\n",
        "\n",
        "  elif secim == \"5\":\n",
        "    for s in siparisler:\n",
        "      print(s.siparis_tamamla()) #detaylar yerine siparis_tamamla fonksiyonu çağrıldı\n",
        "\n",
        "  elif secim == \"6\":\n",
        "    print(\"Çıkış Yapılıyor.\")\n",
        "    break\n",
        "\n",
        "  else:\n",
        "    print(\"Geçersiz seçim.\")\n",
        "\n",
        "\n"
      ]
    }
  ]
}